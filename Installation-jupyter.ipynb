{
 "cells": [
  {
   "cell_type": "markdown",
   "metadata": {},
   "source": [
    "# INSTALLATION JUPYTER NOTEBOOK"
   ]
  },
  {
   "cell_type": "markdown",
   "metadata": {},
   "source": [
    "## 0. LIBRARIES"
   ]
  },
  {
   "cell_type": "markdown",
   "metadata": {},
   "source": [
    "## Setting up the environment "
   ]
  },
  {
   "cell_type": "markdown",
   "metadata": {},
   "source": [
    "I have started a new environment from the anaconda navigator-> environments-> new with python 3.9"
   ]
  },
  {
   "cell_type": "markdown",
   "metadata": {},
   "source": [
    "Then install jupyter-lab, to be able to run the following cells. "
   ]
  },
  {
   "cell_type": "markdown",
   "metadata": {},
   "source": [
    "### Libraries installation\n",
    "Only run once, once they are installed just import them"
   ]
  },
  {
   "cell_type": "code",
   "execution_count": 1,
   "metadata": {
    "collapsed": true,
    "jupyter": {
     "outputs_hidden": true
    },
    "tags": []
   },
   "outputs": [
    {
     "name": "stdout",
     "output_type": "stream",
     "text": [
      "^C\n",
      "Collecting package metadata (repodata.json): ...working... done\n",
      "Solving environment: ...working... done\n",
      "\n",
      "## Package Plan ##\n",
      "\n",
      "  environment location: C:\\ProgramData\\Anaconda3\\envs\\entorno_curso\n",
      "\n",
      "  removed specs:\n",
      "    - numpy\n",
      "\n",
      "\n",
      "The following packages will be downloaded:\n",
      "\n",
      "    package                    |            build\n",
      "    ---------------------------|-----------------\n",
      "    cffi-1.15.1                |   py39h2bbff1b_2         223 KB\n",
      "    jupyterlab_server-2.16.3   |   py39haa95532_0          74 KB\n",
      "    testpath-0.6.0             |   py39haa95532_0          92 KB\n",
      "    ------------------------------------------------------------\n",
      "                                           Total:         389 KB\n",
      "\n",
      "The following NEW packages will be INSTALLED:\n",
      "\n",
      "  testpath           pkgs/main/win-64::testpath-0.6.0-py39haa95532_0\n",
      "\n",
      "The following packages will be REMOVED:\n",
      "\n",
      "  _tflow_select-2.3.0-mkl\n",
      "  abseil-cpp-20210324.2-h0e60522_0\n",
      "  absl-py-1.3.0-pyhd8ed1ab_0\n",
      "  aiohttp-3.8.1-py39hb82d6ee_1\n",
      "  aiosignal-1.3.1-pyhd8ed1ab_0\n",
      "  alabaster-0.7.12-py_0\n",
      "  appdirs-1.4.4-pyh9f0ad1d_0\n",
      "  asciitree-0.3.3-py_2\n",
      "  astor-0.8.1-pyh9f0ad1d_0\n",
      "  astunparse-1.6.3-pyhd8ed1ab_0\n",
      "  async-timeout-4.0.2-pyhd8ed1ab_0\n",
      "  blinker-1.5-pyhd8ed1ab_0\n",
      "  bokeh-2.4.3-pyhd8ed1ab_3\n",
      "  brotli-1.0.9-ha925a31_2\n",
      "  cached-property-1.5.2-hd8ed1ab_1\n",
      "  cached_property-1.5.2-pyha770c72_1\n",
      "  cachetools-4.2.4-pyhd8ed1ab_0\n",
      "  cachey-0.2.1-pyh9f0ad1d_0\n",
      "  click-8.1.3-win_pyhd8ed1ab_2\n",
      "  cloudpickle-2.0.0-pyhd3eb1b0_0\n",
      "  commonmark-0.9.1-py_0\n",
      "  cycler-0.11.0-pyhd3eb1b0_0\n",
      "  cytoolz-0.11.0-py39h2bbff1b_0\n",
      "  dask-2022.6.1-pyhd8ed1ab_0\n",
      "  dask-core-2022.6.1-pyhd8ed1ab_0\n",
      "  dataclasses-0.8-pyhc8e2a94_3\n",
      "  distributed-2022.6.1-pyhd8ed1ab_0\n",
      "  docstring_parser-0.13-pyhd8ed1ab_0\n",
      "  docutils-0.19-py39hcbf5309_1\n",
      "  fasteners-0.17.3-pyhd8ed1ab_0\n",
      "  flatbuffers-2.0.7-h0e60522_0\n",
      "  fonttools-4.25.0-pyhd3eb1b0_0\n",
      "  freetype-py-2.3.0-pyhd8ed1ab_0\n",
      "  frozenlist-1.3.1-py39hb82d6ee_0\n",
      "  fsspec-2022.11.0-pyhd8ed1ab_0\n",
      "  future-0.18.2-pyhd8ed1ab_6\n",
      "  gast-0.4.0-pyh9f0ad1d_0\n",
      "  giflib-5.2.1-h8d14728_2\n",
      "  google-auth-1.35.0-pyh6c4a22f_0\n",
      "  google-auth-oauthlib-0.4.6-pyhd8ed1ab_0\n",
      "  google-pasta-0.2.0-pyh8c360ce_0\n",
      "  grpcio-1.38.1-py39hb76b349_0\n",
      "  h5py-3.7.0-nompi_py39hd4deaf1_100\n",
      "  hdf5-1.12.1-nompi_h2a0e4a3_100\n",
      "  heapdict-1.0.1-py_0\n",
      "  hsluv-5.0.2-pyh44b312d_0\n",
      "  imagecodecs-lite-2019.12.3-py39h5d4886f_5\n",
      "  imageio-2.9.0-pyhd3eb1b0_0\n",
      "  imagesize-1.4.1-pyhd8ed1ab_0\n",
      "  intel-openmp-2022.1.0-h57928b3_3787\n",
      "  joblib-1.2.0-pyhd8ed1ab_0\n",
      "  keras-preprocessing-1.1.2-pyhd8ed1ab_0\n",
      "  kiwisolver-1.4.2-py39hd77b12b_0\n",
      "  krb5-1.19.3-h1176d77_0\n",
      "  libblas-3.9.0-16_win64_mkl\n",
      "  libcblas-3.9.0-16_win64_mkl\n",
      "  libcurl-7.79.1-h789b8ee_1\n",
      "  libiconv-1.16-h2bbff1b_2\n",
      "  liblapack-3.9.0-16_win64_mkl\n",
      "  libprotobuf-3.14.0-h7755175_0\n",
      "  libssh2-1.10.0-h680486a_2\n",
      "  libxml2-2.9.12-h0ad7f3c_0\n",
      "  libxslt-1.1.34-he774522_0\n",
      "  locket-1.0.0-pyhd8ed1ab_0\n",
      "  lxml-4.8.0-py39h1985fb9_0\n",
      "  lz4-4.0.0-py39h0878066_2\n",
      "  m2w64-gcc-libgfortran-5.3.0-6\n",
      "  m2w64-gcc-libs-5.3.0-7\n",
      "  m2w64-gcc-libs-core-5.3.0-7\n",
      "  m2w64-gmp-6.1.0-2\n",
      "  m2w64-libwinpthread-git-5.0.0.4634.697f757-2\n",
      "  magicgui-0.6.0-pyhd8ed1ab_0\n",
      "  markdown-3.4.1-pyhd8ed1ab_0\n",
      "  matplotlib-3.5.1-py39haa95532_1\n",
      "  matplotlib-base-3.5.1-py39hd77b12b_1\n",
      "  mkl-2022.1.0-h6a75c08_874\n",
      "  msgpack-python-1.0.4-py39h2e07f2f_0\n",
      "  msys2-conda-epoch-20160418-1\n",
      "  multidict-6.0.2-py39hb82d6ee_1\n",
      "  munkres-1.1.4-py_0\n",
      "  napari-0.4.13-pyhd8ed1ab_1\n",
      "  napari-console-0.0.6-pyhd8ed1ab_0\n",
      "  napari-plugin-engine-0.2.0-pyhd8ed1ab_2\n",
      "  napari-svg-0.1.6-pyhd8ed1ab_0\n",
      "  networkx-2.7.1-pyhd3eb1b0_0\n",
      "  npe2-0.6.1-pyhd8ed1ab_1\n",
      "  numcodecs-0.10.2-py39h415ef7b_0\n",
      "  numpy-1.23.2-py39h1a62c8c_0\n",
      "  numpydoc-1.5.0-pyhd8ed1ab_0\n",
      "  oauthlib-3.2.2-pyhd8ed1ab_0\n",
      "  opt_einsum-3.3.0-pyhd8ed1ab_1\n",
      "  pandas-1.2.4-py39hd77b12b_0\n",
      "  partd-1.3.0-pyhd8ed1ab_0\n",
      "  pep517-0.13.0-pyhd8ed1ab_0\n",
      "  pint-0.20.1-pyhd8ed1ab_0\n",
      "  protobuf-3.14.0-py39h415ef7b_1\n",
      "  psygnal-0.3.5-py39h2e07f2f_0\n",
      "  pyasn1-0.4.8-py_0\n",
      "  pyasn1-modules-0.2.7-py_0\n",
      "  pydantic-1.9.2-py39hb82d6ee_0\n",
      "  pyjwt-2.6.0-pyhd8ed1ab_0\n",
      "  pyopengl-3.1.6-pyhd8ed1ab_1\n",
      "  python-build-0.9.0-pyhd8ed1ab_0\n",
      "  python-flatbuffers-1.12-pyhd8ed1ab_1\n",
      "  pytomlpp-1.0.9-py39h2e07f2f_0\n",
      "  pyu2f-0.1.5-pyhd8ed1ab_0\n",
      "  pywavelets-1.3.0-py39h2bbff1b_0\n",
      "  pyyaml-6.0-py39hb82d6ee_4\n",
      "  qtconsole-base-5.4.0-pyha770c72_0\n",
      "  qtpy-2.3.0-pyhd8ed1ab_0\n",
      "  requests-oauthlib-1.3.1-pyhd8ed1ab_0\n",
      "  rich-12.6.0-pyhd8ed1ab_0\n",
      "  rsa-4.9-pyhd8ed1ab_0\n",
      "  scikit-image-0.16.2-py39hf11a4ad_0\n",
      "  scikit-learn-1.1.2-py39hfd4428b_0\n",
      "  scipy-1.8.1-py39h5567194_2\n",
      "  shellingham-1.5.0-pyhd8ed1ab_0\n",
      "  snappy-1.1.9-h82413e6_1\n",
      "  snowballstemmer-2.2.0-pyhd8ed1ab_0\n",
      "  sortedcontainers-2.4.0-pyhd8ed1ab_0\n",
      "  sphinx-5.1.1-pyhd8ed1ab_1\n",
      "  sphinxcontrib-applehelp-1.0.2-py_0\n",
      "  sphinxcontrib-devhelp-1.0.2-py_0\n",
      "  sphinxcontrib-htmlhelp-2.0.0-pyhd8ed1ab_0\n",
      "  sphinxcontrib-jsmath-1.0.1-py_0\n",
      "  sphinxcontrib-qthelp-1.0.3-py_0\n",
      "  sphinxcontrib-serializinghtml-1.1.5-pyhd8ed1ab_2\n",
      "  superqt-0.4.0-pyhd8ed1ab_0\n",
      "  tbb-2021.5.0-h2d74725_1\n",
      "  tblib-1.7.0-pyhd8ed1ab_0\n",
      "  tensorboard-2.6.0-pyhd8ed1ab_1\n",
      "  tensorboard-data-server-0.6.0-py39hcbf5309_3\n",
      "  tensorboard-plugin-wit-1.8.1-pyhd8ed1ab_0\n",
      "  tensorflow-2.6.0-mkl_py39h31650da_0\n",
      "  tensorflow-base-2.6.0-mkl_py39h9201259_0\n",
      "  tensorflow-estimator-2.6.0-pyh7b7c402_0\n",
      "  termcolor-2.1.0-pyhd8ed1ab_0\n",
      "  threadpoolctl-3.1.0-pyh8a188c0_0\n",
      "  tifffile-2020.6.3-py_0\n",
      "  tinycss2-1.2.1-py39haa95532_0\n",
      "  toolz-0.11.2-pyhd3eb1b0_0\n",
      "  tqdm-4.64.1-pyhd8ed1ab_0\n",
      "  typer-0.7.0-pyhd8ed1ab_0\n",
      "  vispy-0.9.6-py39h5d4886f_1\n",
      "  werkzeug-2.2.2-pyhd8ed1ab_0\n",
      "  wrapt-1.14.1-py39hb82d6ee_0\n",
      "  yaml-0.2.5-h8ffe710_2\n",
      "  yarl-1.7.2-py39hb82d6ee_2\n",
      "  zarr-2.13.3-pyhd8ed1ab_0\n",
      "  zict-2.2.0-pyhd8ed1ab_0\n",
      "\n",
      "The following packages will be UPDATED:\n",
      "\n",
      "  ca-certificates    conda-forge::ca-certificates-2022.9.2~ --> pkgs/main::ca-certificates-2022.10.11-haa95532_0\n",
      "  cffi                                1.15.1-py39h2bbff1b_0 --> 1.15.1-py39h2bbff1b_2\n",
      "  jupyterlab_server                   2.15.2-py39haa95532_0 --> 2.16.3-py39haa95532_0\n",
      "  openssl            conda-forge::openssl-1.1.1q-h8ffe710_0 --> pkgs/main::openssl-1.1.1s-h2bbff1b_0\n",
      "  wheel              conda-forge::wheel-0.35.1-pyh9f0ad1d_0 --> pkgs/main::wheel-0.37.1-pyhd3eb1b0_0\n",
      "\n",
      "The following packages will be SUPERSEDED by a higher-priority channel:\n",
      "\n",
      "  certifi            conda-forge/noarch::certifi-2022.9.24~ --> pkgs/main/win-64::certifi-2022.9.24-py39haa95532_0\n",
      "\n",
      "The following packages will be DOWNGRADED:\n",
      "\n",
      "  nbconvert                            6.5.4-py39haa95532_0 --> 6.4.4-py39haa95532_0\n",
      "\n",
      "\n",
      "\n",
      "Downloading and Extracting Packages\n",
      "\n",
      "cffi-1.15.1          | 223 KB    |            |   0% \n",
      "cffi-1.15.1          | 223 KB    | 7          |   7% \n",
      "cffi-1.15.1          | 223 KB    | ########## | 100% \n",
      "cffi-1.15.1          | 223 KB    | ########## | 100% \n",
      "\n",
      "testpath-0.6.0       | 92 KB     |            |   0% \n",
      "testpath-0.6.0       | 92 KB     | #7         |  17% \n",
      "testpath-0.6.0       | 92 KB     | ########## | 100% \n",
      "\n",
      "jupyterlab_server-2. | 74 KB     |            |   0% \n",
      "jupyterlab_server-2. | 74 KB     | ##1        |  21% \n",
      "jupyterlab_server-2. | 74 KB     | ########## | 100% \n",
      "Preparing transaction: ...working... done\n",
      "Verifying transaction: ...working... failed\n"
     ]
    },
    {
     "name": "stderr",
     "output_type": "stream",
     "text": [
      "\n",
      "\n",
      "==> WARNING: A newer version of conda exists. <==\n",
      "  current version: 4.11.0\n",
      "  latest version: 22.9.0\n",
      "\n",
      "Please update conda by running\n",
      "\n",
      "    $ conda update -n base -c defaults conda\n",
      "\n",
      "\n",
      "\n",
      "EnvironmentNotWritableError: The current user does not have write permissions to the target environment.\n",
      "  environment location: C:\\ProgramData\\Anaconda3\\envs\\entorno_curso\n",
      "\n",
      "\n",
      "\n",
      "CondaValueError: invalid package specification: ==\n",
      "\n"
     ]
    }
   ],
   "source": [
    "## Tensorflow needs numpy >=1.16.0 <= 1.23.0\n",
    "#!conda uninstall numpy -y, library (pack of code) to work with matrix data \n",
    "!conda install numpy == 1.23.0 -y"
   ]
  },
  {
   "cell_type": "code",
   "execution_count": 6,
   "metadata": {
    "scrolled": true
   },
   "outputs": [],
   "source": [
    "# PIL python image library\n",
    "!conda install -c anaconda pillow -y"
   ]
  },
  {
   "cell_type": "code",
   "execution_count": 2,
   "metadata": {
    "scrolled": true
   },
   "outputs": [
    {
     "name": "stdout",
     "output_type": "stream",
     "text": [
      "Collecting package metadata (repodata.json): ...working... done\n",
      "Solving environment: ...working... done\n",
      "\n",
      "## Package Plan ##\n",
      "\n",
      "  environment location: C:\\ProgramData\\Anaconda3\\envs\\entorno_curso\n",
      "\n",
      "  added / updated specs:\n",
      "    - pathlib\n",
      "\n",
      "\n",
      "The following packages will be downloaded:\n",
      "\n",
      "    package                    |            build\n",
      "    ---------------------------|-----------------\n",
      "    pathlib-1.0.1              |     pyhd3eb1b0_1          17 KB  anaconda\n",
      "    ------------------------------------------------------------\n",
      "                                           Total:          17 KB\n",
      "\n",
      "The following NEW packages will be INSTALLED:\n",
      "\n",
      "  pathlib            anaconda/noarch::pathlib-1.0.1-pyhd3eb1b0_1\n",
      "\n",
      "\n",
      "\n",
      "Downloading and Extracting Packages\n",
      "\n",
      "pathlib-1.0.1        | 17 KB     |            |   0% \n",
      "pathlib-1.0.1        | 17 KB     | #########5 |  96% \n",
      "pathlib-1.0.1        | 17 KB     | ########## | 100% \n",
      "Preparing transaction: ...working... done\n",
      "Verifying transaction: ...working... done\n",
      "Executing transaction: ...working... done\n"
     ]
    },
    {
     "name": "stderr",
     "output_type": "stream",
     "text": [
      "\n",
      "\n",
      "==> WARNING: A newer version of conda exists. <==\n",
      "  current version: 4.11.0\n",
      "  latest version: 22.9.0\n",
      "\n",
      "Please update conda by running\n",
      "\n",
      "    $ conda update -n base -c defaults conda\n",
      "\n",
      "\n"
     ]
    }
   ],
   "source": [
    "# pathlib Paths library\n",
    "!conda install -c anaconda pathlib -y"
   ]
  },
  {
   "cell_type": "code",
   "execution_count": 20,
   "metadata": {
    "scrolled": true
   },
   "outputs": [
    {
     "name": "stdout",
     "output_type": "stream",
     "text": [
      "Collecting package metadata (repodata.json): ...working... done\n",
      "Solving environment: ...working... done\n",
      "\n",
      "## Package Plan ##\n",
      "\n",
      "  environment location: C:\\ProgramData\\Anaconda3\\envs\\entorno_curso\n",
      "\n",
      "  added / updated specs:\n",
      "    - pandas\n",
      "\n",
      "\n",
      "The following packages will be downloaded:\n",
      "\n",
      "    package                    |            build\n",
      "    ---------------------------|-----------------\n",
      "    pandas-1.2.4               |   py39hd77b12b_0        10.2 MB\n",
      "    ------------------------------------------------------------\n",
      "                                           Total:        10.2 MB\n",
      "\n",
      "The following NEW packages will be INSTALLED:\n",
      "\n",
      "  pandas             pkgs/main/win-64::pandas-1.2.4-py39hd77b12b_0\n",
      "\n",
      "The following packages will be UPDATED:\n",
      "\n",
      "  ca-certificates    conda-forge::ca-certificates-2022.9.2~ --> pkgs/main::ca-certificates-2022.10.11-haa95532_0\n",
      "  openssl            conda-forge::openssl-1.1.1q-h8ffe710_0 --> pkgs/main::openssl-1.1.1s-h2bbff1b_0\n",
      "\n",
      "The following packages will be SUPERSEDED by a higher-priority channel:\n",
      "\n",
      "  certifi            conda-forge/noarch::certifi-2022.9.24~ --> pkgs/main/win-64::certifi-2022.9.24-py39haa95532_0\n",
      "\n",
      "\n",
      "\n",
      "Downloading and Extracting Packages\n",
      "\n",
      "pandas-1.2.4         | 10.2 MB   |            |   0% \n",
      "pandas-1.2.4         | 10.2 MB   |            |   0% \n",
      "pandas-1.2.4         | 10.2 MB   | 2          |   2% \n",
      "pandas-1.2.4         | 10.2 MB   | 7          |   7% \n",
      "pandas-1.2.4         | 10.2 MB   | #6         |  17% \n",
      "pandas-1.2.4         | 10.2 MB   | ###2       |  33% \n",
      "pandas-1.2.4         | 10.2 MB   | ######7    |  67% \n",
      "pandas-1.2.4         | 10.2 MB   | ########## | 100% \n",
      "pandas-1.2.4         | 10.2 MB   | ########## | 100% \n",
      "Preparing transaction: ...working... done\n",
      "Verifying transaction: ...working... done\n",
      "Executing transaction: ...working... done\n"
     ]
    },
    {
     "name": "stderr",
     "output_type": "stream",
     "text": [
      "\n",
      "\n",
      "==> WARNING: A newer version of conda exists. <==\n",
      "  current version: 4.11.0\n",
      "  latest version: 22.9.0\n",
      "\n",
      "Please update conda by running\n",
      "\n",
      "    $ conda update -n base -c defaults conda\n",
      "\n",
      "\n"
     ]
    }
   ],
   "source": [
    "# pandas Data tables management\n",
    "!conda install pandas -y"
   ]
  },
  {
   "cell_type": "code",
   "execution_count": 21,
   "metadata": {
    "scrolled": true
   },
   "outputs": [
    {
     "name": "stdout",
     "output_type": "stream",
     "text": [
      "Collecting package metadata (repodata.json): ...working... done\n",
      "Solving environment: ...working... done\n",
      "\n",
      "## Package Plan ##\n",
      "\n",
      "  environment location: C:\\ProgramData\\Anaconda3\\envs\\entorno_curso\n",
      "\n",
      "  added / updated specs:\n",
      "    - scikit-image\n",
      "\n",
      "\n",
      "The following packages will be downloaded:\n",
      "\n",
      "    package                    |            build\n",
      "    ---------------------------|-----------------\n",
      "    dask-core-2.17.0           |             py_0         618 KB  anaconda\n",
      "    scikit-image-0.16.2        |   py39hf11a4ad_0        24.1 MB  anaconda\n",
      "    ------------------------------------------------------------\n",
      "                                           Total:        24.7 MB\n",
      "\n",
      "The following NEW packages will be INSTALLED:\n",
      "\n",
      "  brotli             anaconda/win-64::brotli-1.0.9-ha925a31_2\n",
      "  cloudpickle        anaconda/noarch::cloudpickle-2.0.0-pyhd3eb1b0_0\n",
      "  cycler             anaconda/noarch::cycler-0.11.0-pyhd3eb1b0_0\n",
      "  cytoolz            anaconda/win-64::cytoolz-0.11.0-py39h2bbff1b_0\n",
      "  dask-core          anaconda/noarch::dask-core-2.17.0-py_0\n",
      "  fonttools          anaconda/noarch::fonttools-4.25.0-pyhd3eb1b0_0\n",
      "  imageio            anaconda/noarch::imageio-2.9.0-pyhd3eb1b0_0\n",
      "  kiwisolver         anaconda/win-64::kiwisolver-1.4.2-py39hd77b12b_0\n",
      "  matplotlib         anaconda/win-64::matplotlib-3.5.1-py39haa95532_1\n",
      "  matplotlib-base    anaconda/win-64::matplotlib-base-3.5.1-py39hd77b12b_1\n",
      "  munkres            anaconda/noarch::munkres-1.1.4-py_0\n",
      "  networkx           anaconda/noarch::networkx-2.7.1-pyhd3eb1b0_0\n",
      "  pywavelets         anaconda/win-64::pywavelets-1.3.0-py39h2bbff1b_0\n",
      "  scikit-image       anaconda/win-64::scikit-image-0.16.2-py39hf11a4ad_0\n",
      "  toolz              anaconda/noarch::toolz-0.11.2-pyhd3eb1b0_0\n",
      "\n",
      "The following packages will be SUPERSEDED by a higher-priority channel:\n",
      "\n",
      "  ca-certificates    pkgs/main::ca-certificates-2022.10.11~ --> anaconda::ca-certificates-2022.4.26-haa95532_0\n",
      "  certifi            pkgs/main::certifi-2022.9.24-py39haa9~ --> anaconda::certifi-2022.6.15-py39haa95532_0\n",
      "\n",
      "\n",
      "\n",
      "Downloading and Extracting Packages\n",
      "\n",
      "dask-core-2.17.0     | 618 KB    |            |   0% \n",
      "dask-core-2.17.0     | 618 KB    | 2          |   3% \n",
      "dask-core-2.17.0     | 618 KB    | ########## | 100% \n",
      "dask-core-2.17.0     | 618 KB    | ########## | 100% \n",
      "\n",
      "scikit-image-0.16.2  | 24.1 MB   |            |   0% \n",
      "scikit-image-0.16.2  | 24.1 MB   |            |   0% \n",
      "scikit-image-0.16.2  | 24.1 MB   | 5          |   6% \n",
      "scikit-image-0.16.2  | 24.1 MB   | #4         |  15% \n",
      "scikit-image-0.16.2  | 24.1 MB   | ##3        |  24% \n",
      "scikit-image-0.16.2  | 24.1 MB   | ###2       |  33% \n",
      "scikit-image-0.16.2  | 24.1 MB   | ####5      |  45% \n",
      "scikit-image-0.16.2  | 24.1 MB   | #####5     |  56% \n",
      "scikit-image-0.16.2  | 24.1 MB   | ######5    |  65% \n",
      "scikit-image-0.16.2  | 24.1 MB   | #######6   |  77% \n",
      "scikit-image-0.16.2  | 24.1 MB   | ########7  |  87% \n",
      "scikit-image-0.16.2  | 24.1 MB   | #########7 |  98% \n",
      "scikit-image-0.16.2  | 24.1 MB   | ########## | 100% \n",
      "Preparing transaction: ...working... done\n",
      "Verifying transaction: ...working... done\n",
      "Executing transaction: ...working... done\n"
     ]
    },
    {
     "name": "stderr",
     "output_type": "stream",
     "text": [
      "\n",
      "\n",
      "==> WARNING: A newer version of conda exists. <==\n",
      "  current version: 4.11.0\n",
      "  latest version: 22.9.0\n",
      "\n",
      "Please update conda by running\n",
      "\n",
      "    $ conda update -n base -c defaults conda\n",
      "\n",
      "\n"
     ]
    }
   ],
   "source": [
    "# scikit-image Image processing library\n",
    "!conda install -c anaconda scikit-image -y"
   ]
  },
  {
   "cell_type": "code",
   "execution_count": 5,
   "metadata": {
    "scrolled": true
   },
   "outputs": [
    {
     "name": "stdout",
     "output_type": "stream",
     "text": [
      "Collecting package metadata (repodata.json): ...working... done\n",
      "Solving environment: ...working... done\n",
      "\n",
      "## Package Plan ##\n",
      "\n",
      "  environment location: C:\\ProgramData\\Anaconda3\\envs\\entorno_curso\n",
      "\n",
      "  added / updated specs:\n",
      "    - os\n",
      "\n",
      "\n",
      "The following NEW packages will be INSTALLED:\n",
      "\n",
      "  os                 jmcmurray/noarch::os-0.1.4-0\n",
      "  qutil              jmcmurray/noarch::qutil-3.2.1-6\n",
      "\n",
      "The following packages will be UPDATED:\n",
      "\n",
      "  ca-certificates    anaconda::ca-certificates-2022.4.26-h~ --> pkgs/main::ca-certificates-2022.10.11-haa95532_0\n",
      "  certifi            anaconda::certifi-2022.6.15-py39haa95~ --> pkgs/main::certifi-2022.9.24-py39haa95532_0\n",
      "\n",
      "\n",
      "Preparing transaction: ...working... done\n",
      "Verifying transaction: ...working... done\n",
      "Executing transaction: ...working... done\n"
     ]
    },
    {
     "name": "stderr",
     "output_type": "stream",
     "text": [
      "\n",
      "\n",
      "==> WARNING: A newer version of conda exists. <==\n",
      "  current version: 4.11.0\n",
      "  latest version: 22.9.0\n",
      "\n",
      "Please update conda by running\n",
      "\n",
      "    $ conda update -n base -c defaults conda\n",
      "\n",
      "\n"
     ]
    }
   ],
   "source": [
    "# os  Operative System management \n",
    "!conda install -c jmcmurray os -y"
   ]
  },
  {
   "cell_type": "code",
   "execution_count": 22,
   "metadata": {
    "scrolled": true
   },
   "outputs": [
    {
     "name": "stdout",
     "output_type": "stream",
     "text": [
      "Collecting package metadata (repodata.json): ...working... done\n",
      "Solving environment: ...working... done\n",
      "\n",
      "## Package Plan ##\n",
      "\n",
      "  environment location: C:\\ProgramData\\Anaconda3\\envs\\entorno_curso\n",
      "\n",
      "  added / updated specs:\n",
      "    - scikit-learn\n",
      "\n",
      "\n",
      "The following NEW packages will be INSTALLED:\n",
      "\n",
      "  joblib             conda-forge/noarch::joblib-1.2.0-pyhd8ed1ab_0\n",
      "  scikit-learn       conda-forge/win-64::scikit-learn-1.1.2-py39hfd4428b_0\n",
      "  threadpoolctl      conda-forge/noarch::threadpoolctl-3.1.0-pyh8a188c0_0\n",
      "\n",
      "The following packages will be UPDATED:\n",
      "\n",
      "  ca-certificates    anaconda::ca-certificates-2022.4.26-h~ --> conda-forge::ca-certificates-2022.9.24-h5b45459_0\n",
      "  certifi            anaconda/win-64::certifi-2022.6.15-py~ --> conda-forge/noarch::certifi-2022.9.24-pyhd8ed1ab_0\n",
      "\n",
      "The following packages will be SUPERSEDED by a higher-priority channel:\n",
      "\n",
      "  openssl              pkgs/main::openssl-1.1.1s-h2bbff1b_0 --> conda-forge::openssl-1.1.1q-h8ffe710_0\n",
      "\n",
      "\n",
      "Preparing transaction: ...working... done\n",
      "Verifying transaction: ...working... done\n",
      "Executing transaction: ...working... done\n"
     ]
    },
    {
     "name": "stderr",
     "output_type": "stream",
     "text": [
      "\n",
      "\n",
      "==> WARNING: A newer version of conda exists. <==\n",
      "  current version: 4.11.0\n",
      "  latest version: 22.9.0\n",
      "\n",
      "Please update conda by running\n",
      "\n",
      "    $ conda update -n base -c defaults conda\n",
      "\n",
      "\n"
     ]
    }
   ],
   "source": [
    "## Optional (but useful for future tutorial)\n",
    "!conda install -c conda-forge scikit-learn -y"
   ]
  },
  {
   "cell_type": "code",
   "execution_count": 23,
   "metadata": {
    "collapsed": true,
    "jupyter": {
     "outputs_hidden": true
    },
    "scrolled": true,
    "tags": []
   },
   "outputs": [
    {
     "name": "stdout",
     "output_type": "stream",
     "text": [
      "Collecting package metadata (repodata.json): ...working... done\n",
      "Solving environment: ...working... done\n",
      "\n",
      "## Package Plan ##\n",
      "\n",
      "  environment location: C:\\ProgramData\\Anaconda3\\envs\\entorno_curso\n",
      "\n",
      "  added / updated specs:\n",
      "    - napari\n",
      "\n",
      "\n",
      "The following packages will be downloaded:\n",
      "\n",
      "    package                    |            build\n",
      "    ---------------------------|-----------------\n",
      "    imagecodecs-lite-2019.12.3 |   py39h5d4886f_5         133 KB  conda-forge\n",
      "    napari-0.4.13              |     pyhd8ed1ab_1         1.9 MB  conda-forge\n",
      "    sphinx-5.1.1               |     pyhd8ed1ab_1         1.6 MB  conda-forge\n",
      "    ------------------------------------------------------------\n",
      "                                           Total:         3.6 MB\n",
      "\n",
      "The following NEW packages will be INSTALLED:\n",
      "\n",
      "  alabaster          conda-forge/noarch::alabaster-0.7.12-py_0\n",
      "  appdirs            conda-forge/noarch::appdirs-1.4.4-pyh9f0ad1d_0\n",
      "  asciitree          conda-forge/noarch::asciitree-0.3.3-py_2\n",
      "  bokeh              conda-forge/noarch::bokeh-2.4.3-pyhd8ed1ab_3\n",
      "  cachey             conda-forge/noarch::cachey-0.2.1-pyh9f0ad1d_0\n",
      "  commonmark         conda-forge/noarch::commonmark-0.9.1-py_0\n",
      "  dask               conda-forge/noarch::dask-2022.6.1-pyhd8ed1ab_0\n",
      "  dataclasses        conda-forge/noarch::dataclasses-0.8-pyhc8e2a94_3\n",
      "  distributed        conda-forge/noarch::distributed-2022.6.1-pyhd8ed1ab_0\n",
      "  docstring_parser   conda-forge/noarch::docstring_parser-0.13-pyhd8ed1ab_0\n",
      "  docutils           conda-forge/win-64::docutils-0.19-py39hcbf5309_1\n",
      "  fasteners          conda-forge/noarch::fasteners-0.17.3-pyhd8ed1ab_0\n",
      "  freetype-py        conda-forge/noarch::freetype-py-2.3.0-pyhd8ed1ab_0\n",
      "  fsspec             conda-forge/noarch::fsspec-2022.11.0-pyhd8ed1ab_0\n",
      "  future             conda-forge/noarch::future-0.18.2-pyhd8ed1ab_6\n",
      "  heapdict           conda-forge/noarch::heapdict-1.0.1-py_0\n",
      "  hsluv              conda-forge/noarch::hsluv-5.0.2-pyh44b312d_0\n",
      "  imagecodecs-lite   conda-forge/win-64::imagecodecs-lite-2019.12.3-py39h5d4886f_5\n",
      "  imagesize          conda-forge/noarch::imagesize-1.4.1-pyhd8ed1ab_0\n",
      "  locket             conda-forge/noarch::locket-1.0.0-pyhd8ed1ab_0\n",
      "  lz4                conda-forge/win-64::lz4-4.0.0-py39h0878066_2\n",
      "  magicgui           conda-forge/noarch::magicgui-0.6.0-pyhd8ed1ab_0\n",
      "  msgpack-python     conda-forge/win-64::msgpack-python-1.0.4-py39h2e07f2f_0\n",
      "  napari             conda-forge/noarch::napari-0.4.13-pyhd8ed1ab_1\n",
      "  napari-console     conda-forge/noarch::napari-console-0.0.6-pyhd8ed1ab_0\n",
      "  napari-plugin-eng~ conda-forge/noarch::napari-plugin-engine-0.2.0-pyhd8ed1ab_2\n",
      "  napari-svg         conda-forge/noarch::napari-svg-0.1.6-pyhd8ed1ab_0\n",
      "  npe2               conda-forge/noarch::npe2-0.6.1-pyhd8ed1ab_1\n",
      "  numcodecs          conda-forge/win-64::numcodecs-0.10.2-py39h415ef7b_0\n",
      "  numpydoc           conda-forge/noarch::numpydoc-1.5.0-pyhd8ed1ab_0\n",
      "  partd              conda-forge/noarch::partd-1.3.0-pyhd8ed1ab_0\n",
      "  pep517             conda-forge/noarch::pep517-0.13.0-pyhd8ed1ab_0\n",
      "  pint               conda-forge/noarch::pint-0.20.1-pyhd8ed1ab_0\n",
      "  psygnal            conda-forge/win-64::psygnal-0.3.5-py39h2e07f2f_0\n",
      "  pydantic           conda-forge/win-64::pydantic-1.9.2-py39hb82d6ee_0\n",
      "  pyopengl           conda-forge/noarch::pyopengl-3.1.6-pyhd8ed1ab_1\n",
      "  python-build       conda-forge/noarch::python-build-0.9.0-pyhd8ed1ab_0\n",
      "  pytomlpp           conda-forge/win-64::pytomlpp-1.0.9-py39h2e07f2f_0\n",
      "  pyyaml             conda-forge/win-64::pyyaml-6.0-py39hb82d6ee_4\n",
      "  qtconsole-base     conda-forge/noarch::qtconsole-base-5.4.0-pyha770c72_0\n",
      "  qtpy               conda-forge/noarch::qtpy-2.3.0-pyhd8ed1ab_0\n",
      "  rich               conda-forge/noarch::rich-12.6.0-pyhd8ed1ab_0\n",
      "  shellingham        conda-forge/noarch::shellingham-1.5.0-pyhd8ed1ab_0\n",
      "  snowballstemmer    conda-forge/noarch::snowballstemmer-2.2.0-pyhd8ed1ab_0\n",
      "  sortedcontainers   conda-forge/noarch::sortedcontainers-2.4.0-pyhd8ed1ab_0\n",
      "  sphinx             conda-forge/noarch::sphinx-5.1.1-pyhd8ed1ab_1\n",
      "  sphinxcontrib-app~ conda-forge/noarch::sphinxcontrib-applehelp-1.0.2-py_0\n",
      "  sphinxcontrib-dev~ conda-forge/noarch::sphinxcontrib-devhelp-1.0.2-py_0\n",
      "  sphinxcontrib-htm~ conda-forge/noarch::sphinxcontrib-htmlhelp-2.0.0-pyhd8ed1ab_0\n",
      "  sphinxcontrib-jsm~ conda-forge/noarch::sphinxcontrib-jsmath-1.0.1-py_0\n",
      "  sphinxcontrib-qth~ conda-forge/noarch::sphinxcontrib-qthelp-1.0.3-py_0\n",
      "  sphinxcontrib-ser~ conda-forge/noarch::sphinxcontrib-serializinghtml-1.1.5-pyhd8ed1ab_2\n",
      "  superqt            conda-forge/noarch::superqt-0.4.0-pyhd8ed1ab_0\n",
      "  tblib              conda-forge/noarch::tblib-1.7.0-pyhd8ed1ab_0\n",
      "  tifffile           conda-forge/noarch::tifffile-2020.6.3-py_0\n",
      "  tqdm               conda-forge/noarch::tqdm-4.64.1-pyhd8ed1ab_0\n",
      "  typer              conda-forge/noarch::typer-0.7.0-pyhd8ed1ab_0\n",
      "  vispy              conda-forge/win-64::vispy-0.9.6-py39h5d4886f_1\n",
      "  yaml               conda-forge/win-64::yaml-0.2.5-h8ffe710_2\n",
      "  zarr               conda-forge/noarch::zarr-2.13.3-pyhd8ed1ab_0\n",
      "  zict               conda-forge/noarch::zict-2.2.0-pyhd8ed1ab_0\n",
      "\n",
      "The following packages will be UPDATED:\n",
      "\n",
      "  dask-core                 anaconda::dask-core-2.17.0-py_0 --> conda-forge::dask-core-2022.6.1-pyhd8ed1ab_0\n",
      "\n",
      "\n",
      "\n",
      "Downloading and Extracting Packages\n",
      "\n",
      "napari-0.4.13        | 1.9 MB    |            |   0% \n",
      "napari-0.4.13        | 1.9 MB    |            |   1% \n",
      "napari-0.4.13        | 1.9 MB    | ###1       |  31% \n",
      "napari-0.4.13        | 1.9 MB    | #######7   |  77% \n",
      "napari-0.4.13        | 1.9 MB    | ########## | 100% \n",
      "\n",
      "imagecodecs-lite-201 | 133 KB    |            |   0% \n",
      "imagecodecs-lite-201 | 133 KB    | #2         |  12% \n",
      "imagecodecs-lite-201 | 133 KB    | ########## | 100% \n",
      "\n",
      "sphinx-5.1.1         | 1.6 MB    |            |   0% \n",
      "sphinx-5.1.1         | 1.6 MB    |            |   1% \n",
      "sphinx-5.1.1         | 1.6 MB    | ##1        |  22% \n",
      "sphinx-5.1.1         | 1.6 MB    | ######5    |  66% \n",
      "sphinx-5.1.1         | 1.6 MB    | ########## | 100% \n",
      "sphinx-5.1.1         | 1.6 MB    | ########## | 100% \n",
      "Preparing transaction: ...working... done\n",
      "Verifying transaction: ...working... done\n",
      "Executing transaction: ...working... done\n"
     ]
    },
    {
     "name": "stderr",
     "output_type": "stream",
     "text": [
      "\n",
      "\n",
      "==> WARNING: A newer version of conda exists. <==\n",
      "  current version: 4.11.0\n",
      "  latest version: 22.9.0\n",
      "\n",
      "Please update conda by running\n",
      "\n",
      "    $ conda update -n base -c defaults conda\n",
      "\n",
      "\n"
     ]
    }
   ],
   "source": [
    "## Napari visualization library (optional but come on give it a try)\n",
    "# Need to run on command line \n",
    "!conda install -c conda-forge napari -y"
   ]
  },
  {
   "cell_type": "code",
   "execution_count": 24,
   "metadata": {
    "collapsed": true,
    "jupyter": {
     "outputs_hidden": true
    },
    "scrolled": true,
    "tags": []
   },
   "outputs": [
    {
     "name": "stdout",
     "output_type": "stream",
     "text": [
      "Collecting package metadata (repodata.json): ...working... done\n",
      "Solving environment: ...working... done\n",
      "\n",
      "## Package Plan ##\n",
      "\n",
      "  environment location: C:\\ProgramData\\Anaconda3\\envs\\entorno_curso\n",
      "\n",
      "  added / updated specs:\n",
      "    - pyqt\n",
      "\n",
      "\n",
      "The following packages will be UPDATED:\n",
      "\n",
      "  openssl            conda-forge::openssl-1.1.1q-h8ffe710_0 --> pkgs/main::openssl-1.1.1s-h2bbff1b_0\n",
      "\n",
      "The following packages will be SUPERSEDED by a higher-priority channel:\n",
      "\n",
      "  ca-certificates    conda-forge::ca-certificates-2022.9.2~ --> anaconda::ca-certificates-2022.4.26-haa95532_0\n",
      "  certifi            conda-forge/noarch::certifi-2022.9.24~ --> anaconda/win-64::certifi-2022.6.15-py39haa95532_0\n",
      "\n",
      "\n",
      "Preparing transaction: ...working... done\n",
      "Verifying transaction: ...working... done\n",
      "Executing transaction: ...working... done\n",
      "Rolling back transaction: ...working... done\n"
     ]
    },
    {
     "name": "stderr",
     "output_type": "stream",
     "text": [
      "\n",
      "\n",
      "==> WARNING: A newer version of conda exists. <==\n",
      "  current version: 4.11.0\n",
      "  latest version: 22.9.0\n",
      "\n",
      "Please update conda by running\n",
      "\n",
      "    $ conda update -n base -c defaults conda\n",
      "\n",
      "\n",
      "ERROR conda.core.link:_execute(701): An error occurred while installing package 'defaults::openssl-1.1.1s-h2bbff1b_0'.\n",
      "\n",
      "[Errno 13] Permission denied: 'C:\\\\ProgramData\\\\Anaconda3\\\\envs\\\\entorno_curso\\\\Library\\\\bin\\\\libcrypto-1_1-x64.dll'\n",
      "()\n",
      "\n"
     ]
    }
   ],
   "source": [
    "## another library for napari\n",
    "!conda install -c anaconda pyqt -y"
   ]
  },
  {
   "cell_type": "markdown",
   "metadata": {},
   "source": [
    "------------------------------"
   ]
  },
  {
   "cell_type": "code",
   "execution_count": 7,
   "metadata": {
    "collapsed": true,
    "jupyter": {
     "outputs_hidden": true
    },
    "tags": []
   },
   "outputs": [
    {
     "data": {
      "text/plain": [
       "'2.6.0'"
      ]
     },
     "execution_count": 18,
     "metadata": {},
     "output_type": "execute_result"
    }
   ],
   "source": [
    "## Tensorflow, deep learning\n",
    "!conda install -c conda-forge tensorflow -y\n",
    "\n",
    "#Check install\n",
    "import tensorflow as tf\n",
    "tf.__version__"
   ]
  },
  {
   "cell_type": "code",
   "execution_count": 17,
   "metadata": {
    "collapsed": true,
    "jupyter": {
     "outputs_hidden": true
    },
    "tags": []
   },
   "outputs": [
    {
     "name": "stderr",
     "output_type": "stream",
     "text": [
      "\n",
      "\n",
      "==> WARNING: A newer version of conda exists. <==\n",
      "  current version: 4.11.0\n",
      "  latest version: 22.9.0\n",
      "\n",
      "Please update conda by running\n",
      "\n",
      "    $ conda update -n base -c defaults conda\n",
      "\n",
      "\n"
     ]
    },
    {
     "name": "stdout",
     "output_type": "stream",
     "text": [
      "Collecting package metadata (repodata.json): ...working... done\n",
      "Solving environment: ...working... done\n",
      "\n",
      "## Package Plan ##\n",
      "\n",
      "  environment location: C:\\ProgramData\\Anaconda3\\envs\\entorno_curso\n",
      "\n",
      "  added / updated specs:\n",
      "    - keras\n",
      "\n",
      "\n",
      "The following packages will be downloaded:\n",
      "\n",
      "    package                    |            build\n",
      "    ---------------------------|-----------------\n",
      "    keras-2.6.0                |     pyhd8ed1ab_1         822 KB  conda-forge\n",
      "    ------------------------------------------------------------\n",
      "                                           Total:         822 KB\n",
      "\n",
      "The following NEW packages will be INSTALLED:\n",
      "\n",
      "  keras              conda-forge/noarch::keras-2.6.0-pyhd8ed1ab_1\n",
      "\n",
      "\n",
      "\n",
      "Downloading and Extracting Packages\n",
      "\n",
      "keras-2.6.0          | 822 KB    |            |   0% \n",
      "keras-2.6.0          | 822 KB    | 1          |   2% \n",
      "keras-2.6.0          | 822 KB    | ########## | 100% \n",
      "keras-2.6.0          | 822 KB    | ########## | 100% \n",
      "Preparing transaction: ...working... done\n",
      "Verifying transaction: ...working... done\n",
      "Executing transaction: ...working... done\n"
     ]
    },
    {
     "data": {
      "text/plain": [
       "'2.6.0'"
      ]
     },
     "execution_count": 17,
     "metadata": {},
     "output_type": "execute_result"
    }
   ],
   "source": [
    "## Keras, easy deep learning, works on top of Tensorflow\n",
    "!conda install -c conda-forge keras -y\n",
    "\n",
    "from tensorflow import keras\n",
    "keras.__version__"
   ]
  },
  {
   "cell_type": "code",
   "execution_count": 19,
   "metadata": {
    "collapsed": true,
    "jupyter": {
     "outputs_hidden": true
    },
    "tags": []
   },
   "outputs": [
    {
     "name": "stdout",
     "output_type": "stream",
     "text": [
      "Collecting package metadata (repodata.json): ...working... done\n",
      "Solving environment: ...working... done\n",
      "\n",
      "## Package Plan ##\n",
      "\n",
      "  environment location: C:\\ProgramData\\Anaconda3\\envs\\entorno_curso\n",
      "\n",
      "  added / updated specs:\n",
      "    - matplotlib\n",
      "\n",
      "\n",
      "The following packages will be downloaded:\n",
      "\n",
      "    package                    |            build\n",
      "    ---------------------------|-----------------\n",
      "    kiwisolver-1.4.2           |   py39hd77b12b_0          65 KB  anaconda\n",
      "    ------------------------------------------------------------\n",
      "                                           Total:          65 KB\n",
      "\n",
      "The following NEW packages will be INSTALLED:\n",
      "\n",
      "  brotli             anaconda/win-64::brotli-1.0.9-ha925a31_2\n",
      "  cycler             anaconda/noarch::cycler-0.11.0-pyhd3eb1b0_0\n",
      "  fonttools          anaconda/noarch::fonttools-4.25.0-pyhd3eb1b0_0\n",
      "  kiwisolver         anaconda/win-64::kiwisolver-1.4.2-py39hd77b12b_0\n",
      "  matplotlib         anaconda/win-64::matplotlib-3.5.1-py39haa95532_1\n",
      "  matplotlib-base    anaconda/win-64::matplotlib-base-3.5.1-py39hd77b12b_1\n",
      "  munkres            anaconda/noarch::munkres-1.1.4-py_0\n",
      "\n",
      "The following packages will be UPDATED:\n",
      "\n",
      "  openssl            conda-forge::openssl-1.1.1q-h8ffe710_0 --> pkgs/main::openssl-1.1.1s-h2bbff1b_0\n",
      "\n",
      "The following packages will be SUPERSEDED by a higher-priority channel:\n",
      "\n",
      "  ca-certificates    conda-forge::ca-certificates-2022.9.2~ --> anaconda::ca-certificates-2022.4.26-haa95532_0\n",
      "  certifi            conda-forge/noarch::certifi-2022.9.24~ --> anaconda/win-64::certifi-2022.6.15-py39haa95532_0\n",
      "\n",
      "\n",
      "\n",
      "Downloading and Extracting Packages\n",
      "\n",
      "kiwisolver-1.4.2     | 65 KB     |            |   0% \n",
      "kiwisolver-1.4.2     | 65 KB     | ##4        |  25% \n",
      "kiwisolver-1.4.2     | 65 KB     | ########## | 100% \n",
      "Preparing transaction: ...working... done\n",
      "Verifying transaction: ...working... done\n",
      "Executing transaction: ...working... done\n",
      "Rolling back transaction: ...working... done\n"
     ]
    },
    {
     "name": "stderr",
     "output_type": "stream",
     "text": [
      "\n",
      "\n",
      "==> WARNING: A newer version of conda exists. <==\n",
      "  current version: 4.11.0\n",
      "  latest version: 22.9.0\n",
      "\n",
      "Please update conda by running\n",
      "\n",
      "    $ conda update -n base -c defaults conda\n",
      "\n",
      "\n",
      "ERROR conda.core.link:_execute(701): An error occurred while installing package 'defaults::openssl-1.1.1s-h2bbff1b_0'.\n",
      "\n",
      "[Errno 13] Permission denied: 'C:\\\\ProgramData\\\\Anaconda3\\\\envs\\\\entorno_curso\\\\Library\\\\bin\\\\libcrypto-1_1-x64.dll'\n",
      "()\n",
      "\n"
     ]
    }
   ],
   "source": [
    "## Matplotlib Basic Image visualization library\n",
    "!conda install -c anaconda matplotlib -y"
   ]
  },
  {
   "cell_type": "code",
   "execution_count": null,
   "metadata": {},
   "outputs": [],
   "source": []
  }
 ],
 "metadata": {
  "kernelspec": {
   "display_name": "Python 3 (ipykernel)",
   "language": "python",
   "name": "python3"
  },
  "language_info": {
   "codemirror_mode": {
    "name": "ipython",
    "version": 3
   },
   "file_extension": ".py",
   "mimetype": "text/x-python",
   "name": "python",
   "nbconvert_exporter": "python",
   "pygments_lexer": "ipython3",
   "version": "3.9.15"
  }
 },
 "nbformat": 4,
 "nbformat_minor": 4
}
